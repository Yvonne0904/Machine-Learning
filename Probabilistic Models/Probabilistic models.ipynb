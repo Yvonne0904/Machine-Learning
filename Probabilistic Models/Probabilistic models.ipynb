{
  "cells": [
    {
      "cell_type": "code",
      "execution_count": null,
      "metadata": {
        "id": "1I-Nm8PY5u8X"
      },
      "outputs": [],
      "source": [
        "import numpy as np\n",
        "import matplotlib.pyplot as plt"
      ]
    },
    {
      "cell_type": "code",
      "execution_count": null,
      "metadata": {
        "id": "3TaJbDFxLvFw"
      },
      "outputs": [],
      "source": [
        "def f_objective(theta, X, y, l2_param=1):\n",
        "    '''\n",
        "    Args:\n",
        "        theta: 1D numpy array of size num_features\n",
        "        X: 2D numpy array of size (num_instances, num_features)\n",
        "        y: 1D numpy array of size num_instances\n",
        "        l2_param: regularization parameter\n",
        "\n",
        "    Returns:\n",
        "        objective: scalar value of objective function\n",
        "    '''\n",
        "    n = X.shape[0]\n",
        "    \n",
        "    result = (1/n) * np.sum(np.logaddexp(0,(-theta @ X.T) * y)) + l2_param * np.sum(theta**2)\n",
        "    return result"
      ]
    },
    {
      "cell_type": "code",
      "execution_count": null,
      "metadata": {
        "id": "Ff-nPk1bVhbu"
      },
      "outputs": [],
      "source": [
        "X_train=np.loadtxt('X_train.txt',delimiter=',')\n",
        "X_val=np.loadtxt('X_val.txt',delimiter=',')\n",
        "y_train=np.loadtxt('y_train.txt',delimiter=',')\n",
        "y_val=np.loadtxt('y_val.txt',delimiter=',')\n"
      ]
    },
    {
      "cell_type": "code",
      "execution_count": null,
      "metadata": {
        "id": "YwuuLZpHXmyW"
      },
      "outputs": [],
      "source": [
        "from scipy.optimize import minimize"
      ]
    },
    {
      "cell_type": "code",
      "execution_count": null,
      "metadata": {
        "id": "oYXPGaNeUHwf"
      },
      "outputs": [],
      "source": [
        "def fit_logistic_reg(X, y, objective_function, l2_param=1):\n",
        "    '''\n",
        "    Args:\n",
        "        X: 2D numpy array of size (num_instances, num_features)\n",
        "        y: 1D numpy array of size num_instances\n",
        "        objective_function: function returning the value of the objective\n",
        "        l2_param: regularization parameter\n",
        "        \n",
        "    Returns:\n",
        "        optimal_theta: 1D numpy array of size num_features\n",
        "    '''\n",
        "    X_mean = np.mean(X,axis=0)\n",
        "    X_std = np.std(X,axis=0)\n",
        "    X_norm=(X-X_mean)/X_std\n",
        "    bias_term = np.ones(X.shape[0]).reshape(X.shape[0],1)\n",
        "    X_new = np.hstack((bias_term,X_norm))\n",
        "\n",
        "    theta_0=np.zeros(X_new.shape[1])\n",
        "    result=minimize(objective_function,theta_0,(X_new,y,l2_param))\n",
        "\n",
        "    return result.x\n",
        "\n"
      ]
    },
    {
      "cell_type": "code",
      "execution_count": null,
      "metadata": {
        "id": "tEvSZAF2eptK"
      },
      "outputs": [],
      "source": [
        "theta_hat=fit_logistic_reg(X_train, y_train, f_objective, l2_param=1)"
      ]
    },
    {
      "cell_type": "code",
      "execution_count": null,
      "metadata": {
        "id": "J0SIrJsQm7VO"
      },
      "outputs": [],
      "source": [
        "X_val_mean = np.mean(X_val,axis=0)\n",
        "X_val_std = np.std(X_val,axis=0)\n",
        "X_val_norm=(X_val-X_val_mean)/X_val_std\n",
        "bias_term_val = np.ones(X_val.shape[0]).reshape(X_val.shape[0],1)\n",
        "X_val_new = np.hstack((bias_term_val,X_val_norm))"
      ]
    },
    {
      "cell_type": "code",
      "execution_count": null,
      "metadata": {
        "id": "NL1Gj6oSqmrY"
      },
      "outputs": [],
      "source": [
        "lambda_list=[1e-12,1e-9,1e-6,1e-3,1e-1,1,100,1000,100000]\n",
        "result_list=[]\n",
        "for i in lambda_list:\n",
        "  theta_hat=fit_logistic_reg(X_train, y_train, f_objective, l2_param=i)\n",
        "  res=f_objective(theta_hat, X_val_new, y_val, l2_param=i)\n",
        "  result_list.append(res)\n"
      ]
    },
    {
      "cell_type": "code",
      "execution_count": null,
      "metadata": {
        "colab": {
          "base_uri": "https://localhost:8080/",
          "height": 282
        },
        "id": "1EdfmCR3ruRv",
        "outputId": "d1b3f471-195c-4dd8-ad99-d7714a91cb28"
      },
      "outputs": [
        {
          "data": {
            "text/plain": [
              "[<matplotlib.lines.Line2D at 0x7ff824c63310>]"
            ]
          },
          "execution_count": 141,
          "metadata": {},
          "output_type": "execute_result"
        },
        {
          "data": {
            "image/png": "[encoded data removed]",
            "text/plain": [
              "<Figure size 432x288 with 1 Axes>"
            ]
          },
          "metadata": {
            "needs_background": "light"
          },
          "output_type": "display_data"
        }
      ],
      "source": [
        "plt.plot(np.log(lambda_list),result_list)"
      ]
    },
    {
      "cell_type": "code",
      "execution_count": null,
      "metadata": {
        "id": "dKlfd1k9r1u9"
      },
      "outputs": [],
      "source": [
        "lambda_list=[1e-1,1,100,1e3,1e6,1e9,1e12,1e15]\n",
        "result_list=[]\n",
        "for i in lambda_list:\n",
        "  theta_hat=fit_logistic_reg(X_train, y_train, f_objective, l2_param=i)\n",
        "  res=f_objective(theta_hat, X_val_new, y_val, l2_param=i)\n",
        "  result_list.append(res)"
      ]
    },
    {
      "cell_type": "code",
      "execution_count": null,
      "metadata": {
        "colab": {
          "base_uri": "https://localhost:8080/",
          "height": 282
        },
        "id": "efD3cn5ls_Rv",
        "outputId": "250725d1-f5d2-41c7-ccc0-a16bde01ae5f"
      },
      "outputs": [
        {
          "data": {
            "text/plain": [
              "[<matplotlib.lines.Line2D at 0x7ff824b38790>]"
            ]
          },
          "execution_count": 150,
          "metadata": {},
          "output_type": "execute_result"
        },
        {
          "data": {
            "image/png": "[encoded data removed]",
            "text/plain": [
              "<Figure size 432x288 with 1 Axes>"
            ]
          },
          "metadata": {
            "needs_background": "light"
          },
          "output_type": "display_data"
        }
      ],
      "source": [
        "plt.plot(np.log(lambda_list),result_list)"
      ]
    },
    {
      "cell_type": "code",
      "execution_count": null,
      "metadata": {
        "colab": {
          "base_uri": "https://localhost:8080/",
          "height": 282
        },
        "id": "q4ir46Vvsgk5",
        "outputId": "ec9c27aa-3f24-45a5-d91a-6f14e6c04342"
      },
      "outputs": [
        {
          "data": {
            "text/plain": [
              "[<matplotlib.lines.Line2D at 0x7ff824a2fd50>]"
            ]
          },
          "execution_count": 152,
          "metadata": {},
          "output_type": "execute_result"
        },
        {
          "data": {
            "image/png": "[encoded data removed]",
            "text/plain": [
              "<Figure size 432x288 with 1 Axes>"
            ]
          },
          "metadata": {
            "needs_background": "light"
          },
          "output_type": "display_data"
        }
      ],
      "source": [
        "lambda_list=[100,1e3,1e6,1e9,1e12,1e15]\n",
        "result_list=[]\n",
        "for i in lambda_list:\n",
        "  theta_hat=fit_logistic_reg(X_train, y_train, f_objective, l2_param=i)\n",
        "  res=f_objective(theta_hat, X_val_new, y_val, l2_param=i)\n",
        "  result_list.append(res)\n",
        "plt.plot(np.log(lambda_list),result_list)"
      ]
    },
    {
      "cell_type": "code",
      "execution_count": null,
      "metadata": {
        "colab": {
          "base_uri": "https://localhost:8080/",
          "height": 293
        },
        "id": "t9p83-HxtC-c",
        "outputId": "f0131a8d-0c8a-4464-fabc-1f28d713487f"
      },
      "outputs": [
        {
          "data": {
            "text/plain": [
              "[<matplotlib.lines.Line2D at 0x7ff82491c090>]"
            ]
          },
          "execution_count": 154,
          "metadata": {},
          "output_type": "execute_result"
        },
        {
          "data": {
            "image/png": "[encoded data removed]",
            "text/plain": [
              "<Figure size 432x288 with 1 Axes>"
            ]
          },
          "metadata": {
            "needs_background": "light"
          },
          "output_type": "display_data"
        }
      ],
      "source": [
        "lambda_list=[1e6,1e9,1e12,1e15,1e18,1e21]\n",
        "result_list=[]\n",
        "for i in lambda_list:\n",
        "  theta_hat=fit_logistic_reg(X_train, y_train, f_objective, l2_param=i)\n",
        "  res=f_objective(theta_hat, X_val_new, y_val, l2_param=i)\n",
        "  result_list.append(res)\n",
        "plt.plot(np.log(lambda_list),result_list)"
      ]
    },
    {
      "cell_type": "code",
      "execution_count": null,
      "metadata": {
        "colab": {
          "base_uri": "https://localhost:8080/",
          "height": 293
        },
        "id": "oU6ZyPy0tMGK",
        "outputId": "fda8695c-0a2e-4dac-e21b-3f8c616fee25"
      },
      "outputs": [
        {
          "data": {
            "text/plain": [
              "[<matplotlib.lines.Line2D at 0x7ff824ae1e50>]"
            ]
          },
          "execution_count": 164,
          "metadata": {},
          "output_type": "execute_result"
        },
        {
          "data": {
            "image/png": "[encoded data removed]",
            "text/plain": [
              "<Figure size 432x288 with 1 Axes>"
            ]
          },
          "metadata": {
            "needs_background": "light"
          },
          "output_type": "display_data"
        }
      ],
      "source": [
        "result_list1=[]\n",
        "for i in np.linspace(1e4,1e8,10):\n",
        "  theta_hat=fit_logistic_reg(X_train, y_train, f_objective, l2_param=i)\n",
        "  res=f_objective(theta_hat, X_val_new, y_val, l2_param=i)\n",
        "  result_list1.append(res)\n",
        "plt.plot(np.log(np.linspace(1e4,1e8,10)),result_list1)"
      ]
    },
    {
      "cell_type": "code",
      "execution_count": null,
      "metadata": {
        "colab": {
          "base_uri": "https://localhost:8080/"
        },
        "id": "vSMbo5Ksv8tv",
        "outputId": "9454ef24-b2a4-4c99-a30f-ed8856c8e696"
      },
      "outputs": [
        {
          "data": {
            "text/plain": [
              "0.6931471805599452"
            ]
          },
          "execution_count": 165,
          "metadata": {},
          "output_type": "execute_result"
        }
      ],
      "source": [
        "max(result_list1)"
      ]
    },
    {
      "cell_type": "code",
      "execution_count": null,
      "metadata": {
        "colab": {
          "base_uri": "https://localhost:8080/",
          "height": 293
        },
        "id": "ts-gkdsOwTW9",
        "outputId": "87a70fb3-0eee-4eb2-b378-45d9e701444f"
      },
      "outputs": [
        {
          "data": {
            "text/plain": [
              "[<matplotlib.lines.Line2D at 0x7ff824902650>]"
            ]
          },
          "execution_count": 166,
          "metadata": {},
          "output_type": "execute_result"
        },
        {
          "data": {
            "image/png": "[encoded data removed]",
            "text/plain": [
              "<Figure size 432x288 with 1 Axes>"
            ]
          },
          "metadata": {
            "needs_background": "light"
          },
          "output_type": "display_data"
        }
      ],
      "source": [
        "result_list2=[]\n",
        "for i in np.linspace(1e3,1e6,10):\n",
        "  theta_hat=fit_logistic_reg(X_train, y_train, f_objective, l2_param=i)\n",
        "  res=f_objective(theta_hat, X_val_new, y_val, l2_param=i)\n",
        "  result_list2.append(res)\n",
        "plt.plot(np.log(np.linspace(1e3,1e6,10)),result_list2)"
      ]
    },
    {
      "cell_type": "code",
      "execution_count": null,
      "metadata": {
        "colab": {
          "base_uri": "https://localhost:8080/",
          "height": 282
        },
        "id": "w49tcVWbwTzK",
        "outputId": "d4ebbfce-41ef-43bd-871f-6ff5466b4b0f"
      },
      "outputs": [
        {
          "data": {
            "text/plain": [
              "[<matplotlib.lines.Line2D at 0x7ff8246bd490>]"
            ]
          },
          "execution_count": 169,
          "metadata": {},
          "output_type": "execute_result"
        },
        {
          "data": {
            "image/png": "[encoded data removed]",
            "text/plain": [
              "<Figure size 432x288 with 1 Axes>"
            ]
          },
          "metadata": {
            "needs_background": "light"
          },
          "output_type": "display_data"
        }
      ],
      "source": [
        "result_list2=[]\n",
        "for i in np.linspace(1e1,1e3,10):\n",
        "  theta_hat=fit_logistic_reg(X_train, y_train, f_objective, l2_param=i)\n",
        "  res=f_objective(theta_hat, X_val_new, y_val, l2_param=i)\n",
        "  result_list2.append(res)\n",
        "plt.plot(np.log(np.linspace(1e1,1e3,10)),result_list2)"
      ]
    },
    {
      "cell_type": "code",
      "execution_count": null,
      "metadata": {
        "colab": {
          "base_uri": "https://localhost:8080/",
          "height": 282
        },
        "id": "M88Ag3y8woj1",
        "outputId": "2b79bb61-64ab-4e23-cc1a-506737aff139"
      },
      "outputs": [
        {
          "data": {
            "text/plain": [
              "[<matplotlib.lines.Line2D at 0x7ff824527510>]"
            ]
          },
          "execution_count": 174,
          "metadata": {},
          "output_type": "execute_result"
        },
        {
          "data": {
            "image/png": "[encoded data removed]",
            "text/plain": [
              "<Figure size 432x288 with 1 Axes>"
            ]
          },
          "metadata": {
            "needs_background": "light"
          },
          "output_type": "display_data"
        }
      ],
      "source": [
        "\n",
        "result_list2=[]\n",
        "for i in [100,1e3,1e6,1e9,1e12,1e15]:\n",
        "  theta_hat=fit_logistic_reg(X_train, y_train, f_objective, l2_param=i)\n",
        "  res=f_objective(theta_hat, X_val_new, y_val, l2_param=i)\n",
        "  result_list2.append(res)\n",
        "plt.plot(np.log([100,1e3,1e6,1e9,1e12,1e15]),result_list2)"
      ]
    }
  ],
  "metadata": {
    "colab": {
      "name": "HW4.ipynb",
      "provenance": []
    },
    "kernelspec": {
      "display_name": "Python 3",
      "name": "python3"
    },
    "language_info": {
      "name": "python"
    }
  },
  "nbformat": 4,
  "nbformat_minor": 0
}
